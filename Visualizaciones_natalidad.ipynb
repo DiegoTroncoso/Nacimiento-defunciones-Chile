{
 "cells": [
  {
   "cell_type": "code",
   "execution_count": 1,
   "metadata": {},
   "outputs": [],
   "source": [
    "import pandas as pd\n",
    "import numpy as np\n",
    "import seaborn as sns\n",
    "import matplotlib.pyplot as plt\n",
    "import plotly.express as px\n",
    "from scipy.stats import pearsonr\n",
    "import statsmodels.api as sm\n",
    "from statsmodels.stats.outliers_influence import variance_inflation_factor"
   ]
  },
  {
   "cell_type": "code",
   "execution_count": 2,
   "metadata": {},
   "outputs": [],
   "source": [
    "file_path_desocupacion = r'C:\\Users\\azuka\\OneDrive\\Documentos\\U\\Analitica\\indicadores_principales_p2002.xlsx'\n",
    "hojas_desocupacion = pd.read_excel(file_path_desocupacion, sheet_name=None, header=1)\n",
    "df_desocupacion = hojas_desocupacion['as']\n"
   ]
  },
  {
   "cell_type": "code",
   "execution_count": 3,
   "metadata": {},
   "outputs": [
    {
     "name": "stdout",
     "output_type": "stream",
     "text": [
      "Datos de desocupación:\n",
      "    Año  Trimestre Población en edad de trabajar (Total)  \\\n",
      "4   NaN        NaN                                   NaN   \n",
      "5  2010  Ene - Mar                              13198.89   \n",
      "6  2010  Feb - Abr                             13216.719   \n",
      "7  2010  Mar - May                             13234.538   \n",
      "8  2010  Abr - Jun                              13252.26   \n",
      "\n",
      "  Fuerza de trabajo (Total) Ocupados (Total) Desocupados (Total)  \\\n",
      "4                       NaN              NaN                 NaN   \n",
      "5               7613.820237      6925.550722          688.269515   \n",
      "6               7625.804763      6967.930976          657.873787   \n",
      "7               7646.678052      6971.790946          674.887107   \n",
      "8               7682.790372      7030.691472            652.0989   \n",
      "\n",
      "  Desocupados (Cesantes) Desocupados (Buscan trabajo por primera vez)  \\\n",
      "4                    NaN                                          NaN   \n",
      "5              595.17446                                    93.095055   \n",
      "6             576.094118                                     81.77967   \n",
      "7             600.024282                                    74.862825   \n",
      "8             577.822545                                    74.276355   \n",
      "\n",
      "  Fuera de la fuerza de trabajo (Total)  \\\n",
      "4                                   NaN   \n",
      "5                           5585.069763   \n",
      "6                           5590.914237   \n",
      "7                           5587.859948   \n",
      "8                           5569.469628   \n",
      "\n",
      "  Fuera de la fuerza de trabajo (Iniciadores)  \\\n",
      "4                                         NaN   \n",
      "5                                   87.860323   \n",
      "6                                   70.500015   \n",
      "7                                   49.954439   \n",
      "8                                    42.28488   \n",
      "\n",
      "  Fuera de la fuerza de trabajo (Inactivos potencialmente activos)  \\\n",
      "4                                                NaN                 \n",
      "5                                         1099.93376                 \n",
      "6                                         988.042089                 \n",
      "7                                         982.069772                 \n",
      "8                                          984.10417                 \n",
      "\n",
      "  Fuera de la fuerza de trabajo (Inactivos habituales) Tasa de desocupación  \\\n",
      "4                                                NaN                    NaN   \n",
      "5                                         4397.27568               9.039739   \n",
      "6                                        4532.372132               8.626942   \n",
      "7                                        4555.835738               8.825886   \n",
      "8                                        4543.080577               8.487787   \n",
      "\n",
      "  Tasa de ocupación Tasa de participación  \n",
      "4               NaN                   NaN  \n",
      "5         52.470706             57.685307  \n",
      "6          52.72058             57.698168  \n",
      "7         52.678763             57.778202  \n",
      "8         53.052773             57.973435  \n"
     ]
    }
   ],
   "source": [
    "df_desocupacion = df_desocupacion.drop(0)\n",
    "df_desocupacion = df_desocupacion.dropna(how='all') \n",
    "df_desocupacion = df_desocupacion.drop([2, 3], axis=0) \n",
    "\n",
    "df_desocupacion.columns = [\n",
    "    'Año', 'Trimestre', \n",
    "    'Población en edad de trabajar (Total)', \n",
    "    'Fuerza de trabajo (Total)', \n",
    "    'Ocupados (Total)', 'Desocupados (Total)', \n",
    "    'Desocupados (Cesantes)', \n",
    "    'Desocupados (Buscan trabajo por primera vez)', \n",
    "    'Fuera de la fuerza de trabajo (Total)', \n",
    "    'Fuera de la fuerza de trabajo (Iniciadores)',\n",
    "    'Fuera de la fuerza de trabajo (Inactivos potencialmente activos)', \n",
    "    'Fuera de la fuerza de trabajo (Inactivos habituales)', \n",
    "    'Tasa de desocupación', 'Tasa de ocupación', 'Tasa de participación'\n",
    "]\n",
    "\n",
    "df_desocupacion.iloc[:, 2:] = df_desocupacion.iloc[:, 2:].apply(pd.to_numeric, errors='coerce')\n",
    "\n",
    "print(\"Datos de desocupación:\")\n",
    "print(df_desocupacion.head())"
   ]
  },
  {
   "cell_type": "code",
   "execution_count": 4,
   "metadata": {},
   "outputs": [
    {
     "data": {
      "application/vnd.plotly.v1+json": {
       "config": {
        "plotlyServerURL": "https://plot.ly"
       },
       "data": [
        {
         "hovertemplate": "Año=%{x}<br>Tasa de desocupación=%{y}<extra></extra>",
         "legendgroup": "",
         "line": {
          "color": "#636efa",
          "dash": "solid"
         },
         "marker": {
          "symbol": "circle"
         },
         "mode": "lines",
         "name": "",
         "orientation": "v",
         "showlegend": false,
         "type": "scatter",
         "x": [
          null,
          2010,
          2010,
          2010,
          2010,
          2010,
          2010,
          2010,
          2010,
          2010,
          2010,
          2010,
          2011,
          2011,
          2011,
          2011,
          2011,
          2011,
          2011,
          2011,
          2011,
          2011,
          2011,
          2011,
          2012,
          2012,
          2012,
          2012,
          2012,
          2012,
          2012,
          2012,
          2012,
          2012,
          2012,
          2012,
          2013,
          2013,
          2013,
          2013,
          2013,
          2013,
          2013,
          2013,
          2013,
          2013,
          2013,
          2013,
          2014,
          2014,
          2014,
          2014,
          2014,
          2014,
          2014,
          2014,
          2014,
          2014,
          2014,
          2014,
          2015,
          2015,
          2015,
          2015,
          2015,
          2015,
          2015,
          2015,
          2015,
          2015,
          2015,
          2015,
          2016,
          2016,
          2016,
          2016,
          2016,
          2016,
          2016,
          2016,
          2016,
          2016,
          2016,
          2016,
          2017,
          2017,
          2017,
          2017,
          2017,
          2017,
          2017,
          2017,
          2017,
          2017,
          2017,
          2017,
          2018,
          2018,
          2018,
          2018,
          2018,
          2018,
          2018,
          2018,
          2018,
          2018,
          2018,
          2018,
          2019,
          2019,
          2019,
          2019,
          2019,
          2019,
          2019,
          2019,
          2019,
          2019,
          2019,
          2019,
          "Fuente: Encuesta Nacional de Empleo, INE-Chile."
         ],
         "xaxis": "x",
         "y": [
          null,
          9.03973948965746,
          8.626942439263695,
          8.825886248438538,
          8.487787225546953,
          8.314732789235839,
          8.291560612591198,
          7.963774869022483,
          7.623557023343655,
          7.051416520692398,
          7.120347365687019,
          7.340132696713926,
          7.315721207626963,
          7.298386285371812,
          6.977517032999736,
          7.161472252392431,
          7.159484600976376,
          7.4826698327983765,
          7.391866352093472,
          7.421627022930995,
          7.230558408120431,
          7.066183700739651,
          6.598495996329758,
          6.6304533713690965,
          6.3561666080749095,
          6.598741777993321,
          6.525408902549799,
          6.709016725667402,
          6.572225158455596,
          6.525992990926412,
          6.446994243844937,
          6.504017181921072,
          6.57130007282392,
          6.194415868035243,
          6.054460450918034,
          5.964545082500447,
          6.164507217658101,
          6.203448312899841,
          6.359792036096512,
          6.3996811897470725,
          6.1689321658479885,
          5.747827553800524,
          5.7179052945378555,
          5.690263342960539,
          5.823550726093493,
          5.703687630823458,
          5.6668666376978445,
          6.115673995495242,
          6.134262541805118,
          6.450669948334687,
          6.107910961832491,
          6.282261508994125,
          6.450937948423402,
          6.473213282868735,
          6.698577016166012,
          6.635311764634108,
          6.410069537935673,
          6.052199429293618,
          6.028694465325629,
          6.150020899235231,
          6.105395625478172,
          6.131002956348618,
          6.148446140042521,
          6.566067410178894,
          6.516351863749327,
          6.573213212799671,
          6.464313098772201,
          6.423255489289365,
          6.314554174842529,
          6.0630923122706255,
          5.784264346311922,
          5.835161302729754,
          5.910810580260359,
          6.263186335665207,
          6.351786583772531,
          6.78441961880193,
          6.87708995758623,
          7.141924780783724,
          6.880500729744904,
          6.751059635632475,
          6.416190082141639,
          6.233804741629623,
          6.068713973061807,
          6.219436420541283,
          6.376688653618502,
          6.610561686329662,
          6.658319310547069,
          7.020358326600131,
          7.019500967887657,
          6.869667293685334,
          6.6404318555853825,
          6.703247957307973,
          6.744264849313406,
          6.467274954198173,
          6.361443308878775,
          6.509651105004656,
          6.663470957265394,
          6.904078439493895,
          6.732367121243281,
          6.988833814468317,
          7.150431707329248,
          7.318730665949778,
          7.3410844192273155,
          7.080212400789265,
          7.0800038506074054,
          6.83700685525767,
          6.730126549933421,
          6.769212332210721,
          6.704978705756889,
          6.850218338090118,
          6.860785284423658,
          7.085205037416897,
          7.103143408317283,
          7.170623898475695,
          7.185189287366499,
          7.047923783573083,
          7.0099420763895095,
          6.880493911712193,
          6.981000490534839,
          null,
          null
         ],
         "yaxis": "y"
        }
       ],
       "layout": {
        "legend": {
         "tracegroupgap": 0
        },
        "template": {
         "data": {
          "bar": [
           {
            "error_x": {
             "color": "#2a3f5f"
            },
            "error_y": {
             "color": "#2a3f5f"
            },
            "marker": {
             "line": {
              "color": "#E5ECF6",
              "width": 0.5
             },
             "pattern": {
              "fillmode": "overlay",
              "size": 10,
              "solidity": 0.2
             }
            },
            "type": "bar"
           }
          ],
          "barpolar": [
           {
            "marker": {
             "line": {
              "color": "#E5ECF6",
              "width": 0.5
             },
             "pattern": {
              "fillmode": "overlay",
              "size": 10,
              "solidity": 0.2
             }
            },
            "type": "barpolar"
           }
          ],
          "carpet": [
           {
            "aaxis": {
             "endlinecolor": "#2a3f5f",
             "gridcolor": "white",
             "linecolor": "white",
             "minorgridcolor": "white",
             "startlinecolor": "#2a3f5f"
            },
            "baxis": {
             "endlinecolor": "#2a3f5f",
             "gridcolor": "white",
             "linecolor": "white",
             "minorgridcolor": "white",
             "startlinecolor": "#2a3f5f"
            },
            "type": "carpet"
           }
          ],
          "choropleth": [
           {
            "colorbar": {
             "outlinewidth": 0,
             "ticks": ""
            },
            "type": "choropleth"
           }
          ],
          "contour": [
           {
            "colorbar": {
             "outlinewidth": 0,
             "ticks": ""
            },
            "colorscale": [
             [
              0,
              "#0d0887"
             ],
             [
              0.1111111111111111,
              "#46039f"
             ],
             [
              0.2222222222222222,
              "#7201a8"
             ],
             [
              0.3333333333333333,
              "#9c179e"
             ],
             [
              0.4444444444444444,
              "#bd3786"
             ],
             [
              0.5555555555555556,
              "#d8576b"
             ],
             [
              0.6666666666666666,
              "#ed7953"
             ],
             [
              0.7777777777777778,
              "#fb9f3a"
             ],
             [
              0.8888888888888888,
              "#fdca26"
             ],
             [
              1,
              "#f0f921"
             ]
            ],
            "type": "contour"
           }
          ],
          "contourcarpet": [
           {
            "colorbar": {
             "outlinewidth": 0,
             "ticks": ""
            },
            "type": "contourcarpet"
           }
          ],
          "heatmap": [
           {
            "colorbar": {
             "outlinewidth": 0,
             "ticks": ""
            },
            "colorscale": [
             [
              0,
              "#0d0887"
             ],
             [
              0.1111111111111111,
              "#46039f"
             ],
             [
              0.2222222222222222,
              "#7201a8"
             ],
             [
              0.3333333333333333,
              "#9c179e"
             ],
             [
              0.4444444444444444,
              "#bd3786"
             ],
             [
              0.5555555555555556,
              "#d8576b"
             ],
             [
              0.6666666666666666,
              "#ed7953"
             ],
             [
              0.7777777777777778,
              "#fb9f3a"
             ],
             [
              0.8888888888888888,
              "#fdca26"
             ],
             [
              1,
              "#f0f921"
             ]
            ],
            "type": "heatmap"
           }
          ],
          "heatmapgl": [
           {
            "colorbar": {
             "outlinewidth": 0,
             "ticks": ""
            },
            "colorscale": [
             [
              0,
              "#0d0887"
             ],
             [
              0.1111111111111111,
              "#46039f"
             ],
             [
              0.2222222222222222,
              "#7201a8"
             ],
             [
              0.3333333333333333,
              "#9c179e"
             ],
             [
              0.4444444444444444,
              "#bd3786"
             ],
             [
              0.5555555555555556,
              "#d8576b"
             ],
             [
              0.6666666666666666,
              "#ed7953"
             ],
             [
              0.7777777777777778,
              "#fb9f3a"
             ],
             [
              0.8888888888888888,
              "#fdca26"
             ],
             [
              1,
              "#f0f921"
             ]
            ],
            "type": "heatmapgl"
           }
          ],
          "histogram": [
           {
            "marker": {
             "pattern": {
              "fillmode": "overlay",
              "size": 10,
              "solidity": 0.2
             }
            },
            "type": "histogram"
           }
          ],
          "histogram2d": [
           {
            "colorbar": {
             "outlinewidth": 0,
             "ticks": ""
            },
            "colorscale": [
             [
              0,
              "#0d0887"
             ],
             [
              0.1111111111111111,
              "#46039f"
             ],
             [
              0.2222222222222222,
              "#7201a8"
             ],
             [
              0.3333333333333333,
              "#9c179e"
             ],
             [
              0.4444444444444444,
              "#bd3786"
             ],
             [
              0.5555555555555556,
              "#d8576b"
             ],
             [
              0.6666666666666666,
              "#ed7953"
             ],
             [
              0.7777777777777778,
              "#fb9f3a"
             ],
             [
              0.8888888888888888,
              "#fdca26"
             ],
             [
              1,
              "#f0f921"
             ]
            ],
            "type": "histogram2d"
           }
          ],
          "histogram2dcontour": [
           {
            "colorbar": {
             "outlinewidth": 0,
             "ticks": ""
            },
            "colorscale": [
             [
              0,
              "#0d0887"
             ],
             [
              0.1111111111111111,
              "#46039f"
             ],
             [
              0.2222222222222222,
              "#7201a8"
             ],
             [
              0.3333333333333333,
              "#9c179e"
             ],
             [
              0.4444444444444444,
              "#bd3786"
             ],
             [
              0.5555555555555556,
              "#d8576b"
             ],
             [
              0.6666666666666666,
              "#ed7953"
             ],
             [
              0.7777777777777778,
              "#fb9f3a"
             ],
             [
              0.8888888888888888,
              "#fdca26"
             ],
             [
              1,
              "#f0f921"
             ]
            ],
            "type": "histogram2dcontour"
           }
          ],
          "mesh3d": [
           {
            "colorbar": {
             "outlinewidth": 0,
             "ticks": ""
            },
            "type": "mesh3d"
           }
          ],
          "parcoords": [
           {
            "line": {
             "colorbar": {
              "outlinewidth": 0,
              "ticks": ""
             }
            },
            "type": "parcoords"
           }
          ],
          "pie": [
           {
            "automargin": true,
            "type": "pie"
           }
          ],
          "scatter": [
           {
            "fillpattern": {
             "fillmode": "overlay",
             "size": 10,
             "solidity": 0.2
            },
            "type": "scatter"
           }
          ],
          "scatter3d": [
           {
            "line": {
             "colorbar": {
              "outlinewidth": 0,
              "ticks": ""
             }
            },
            "marker": {
             "colorbar": {
              "outlinewidth": 0,
              "ticks": ""
             }
            },
            "type": "scatter3d"
           }
          ],
          "scattercarpet": [
           {
            "marker": {
             "colorbar": {
              "outlinewidth": 0,
              "ticks": ""
             }
            },
            "type": "scattercarpet"
           }
          ],
          "scattergeo": [
           {
            "marker": {
             "colorbar": {
              "outlinewidth": 0,
              "ticks": ""
             }
            },
            "type": "scattergeo"
           }
          ],
          "scattergl": [
           {
            "marker": {
             "colorbar": {
              "outlinewidth": 0,
              "ticks": ""
             }
            },
            "type": "scattergl"
           }
          ],
          "scattermapbox": [
           {
            "marker": {
             "colorbar": {
              "outlinewidth": 0,
              "ticks": ""
             }
            },
            "type": "scattermapbox"
           }
          ],
          "scatterpolar": [
           {
            "marker": {
             "colorbar": {
              "outlinewidth": 0,
              "ticks": ""
             }
            },
            "type": "scatterpolar"
           }
          ],
          "scatterpolargl": [
           {
            "marker": {
             "colorbar": {
              "outlinewidth": 0,
              "ticks": ""
             }
            },
            "type": "scatterpolargl"
           }
          ],
          "scatterternary": [
           {
            "marker": {
             "colorbar": {
              "outlinewidth": 0,
              "ticks": ""
             }
            },
            "type": "scatterternary"
           }
          ],
          "surface": [
           {
            "colorbar": {
             "outlinewidth": 0,
             "ticks": ""
            },
            "colorscale": [
             [
              0,
              "#0d0887"
             ],
             [
              0.1111111111111111,
              "#46039f"
             ],
             [
              0.2222222222222222,
              "#7201a8"
             ],
             [
              0.3333333333333333,
              "#9c179e"
             ],
             [
              0.4444444444444444,
              "#bd3786"
             ],
             [
              0.5555555555555556,
              "#d8576b"
             ],
             [
              0.6666666666666666,
              "#ed7953"
             ],
             [
              0.7777777777777778,
              "#fb9f3a"
             ],
             [
              0.8888888888888888,
              "#fdca26"
             ],
             [
              1,
              "#f0f921"
             ]
            ],
            "type": "surface"
           }
          ],
          "table": [
           {
            "cells": {
             "fill": {
              "color": "#EBF0F8"
             },
             "line": {
              "color": "white"
             }
            },
            "header": {
             "fill": {
              "color": "#C8D4E3"
             },
             "line": {
              "color": "white"
             }
            },
            "type": "table"
           }
          ]
         },
         "layout": {
          "annotationdefaults": {
           "arrowcolor": "#2a3f5f",
           "arrowhead": 0,
           "arrowwidth": 1
          },
          "autotypenumbers": "strict",
          "coloraxis": {
           "colorbar": {
            "outlinewidth": 0,
            "ticks": ""
           }
          },
          "colorscale": {
           "diverging": [
            [
             0,
             "#8e0152"
            ],
            [
             0.1,
             "#c51b7d"
            ],
            [
             0.2,
             "#de77ae"
            ],
            [
             0.3,
             "#f1b6da"
            ],
            [
             0.4,
             "#fde0ef"
            ],
            [
             0.5,
             "#f7f7f7"
            ],
            [
             0.6,
             "#e6f5d0"
            ],
            [
             0.7,
             "#b8e186"
            ],
            [
             0.8,
             "#7fbc41"
            ],
            [
             0.9,
             "#4d9221"
            ],
            [
             1,
             "#276419"
            ]
           ],
           "sequential": [
            [
             0,
             "#0d0887"
            ],
            [
             0.1111111111111111,
             "#46039f"
            ],
            [
             0.2222222222222222,
             "#7201a8"
            ],
            [
             0.3333333333333333,
             "#9c179e"
            ],
            [
             0.4444444444444444,
             "#bd3786"
            ],
            [
             0.5555555555555556,
             "#d8576b"
            ],
            [
             0.6666666666666666,
             "#ed7953"
            ],
            [
             0.7777777777777778,
             "#fb9f3a"
            ],
            [
             0.8888888888888888,
             "#fdca26"
            ],
            [
             1,
             "#f0f921"
            ]
           ],
           "sequentialminus": [
            [
             0,
             "#0d0887"
            ],
            [
             0.1111111111111111,
             "#46039f"
            ],
            [
             0.2222222222222222,
             "#7201a8"
            ],
            [
             0.3333333333333333,
             "#9c179e"
            ],
            [
             0.4444444444444444,
             "#bd3786"
            ],
            [
             0.5555555555555556,
             "#d8576b"
            ],
            [
             0.6666666666666666,
             "#ed7953"
            ],
            [
             0.7777777777777778,
             "#fb9f3a"
            ],
            [
             0.8888888888888888,
             "#fdca26"
            ],
            [
             1,
             "#f0f921"
            ]
           ]
          },
          "colorway": [
           "#636efa",
           "#EF553B",
           "#00cc96",
           "#ab63fa",
           "#FFA15A",
           "#19d3f3",
           "#FF6692",
           "#B6E880",
           "#FF97FF",
           "#FECB52"
          ],
          "font": {
           "color": "#2a3f5f"
          },
          "geo": {
           "bgcolor": "white",
           "lakecolor": "white",
           "landcolor": "#E5ECF6",
           "showlakes": true,
           "showland": true,
           "subunitcolor": "white"
          },
          "hoverlabel": {
           "align": "left"
          },
          "hovermode": "closest",
          "mapbox": {
           "style": "light"
          },
          "paper_bgcolor": "white",
          "plot_bgcolor": "#E5ECF6",
          "polar": {
           "angularaxis": {
            "gridcolor": "white",
            "linecolor": "white",
            "ticks": ""
           },
           "bgcolor": "#E5ECF6",
           "radialaxis": {
            "gridcolor": "white",
            "linecolor": "white",
            "ticks": ""
           }
          },
          "scene": {
           "xaxis": {
            "backgroundcolor": "#E5ECF6",
            "gridcolor": "white",
            "gridwidth": 2,
            "linecolor": "white",
            "showbackground": true,
            "ticks": "",
            "zerolinecolor": "white"
           },
           "yaxis": {
            "backgroundcolor": "#E5ECF6",
            "gridcolor": "white",
            "gridwidth": 2,
            "linecolor": "white",
            "showbackground": true,
            "ticks": "",
            "zerolinecolor": "white"
           },
           "zaxis": {
            "backgroundcolor": "#E5ECF6",
            "gridcolor": "white",
            "gridwidth": 2,
            "linecolor": "white",
            "showbackground": true,
            "ticks": "",
            "zerolinecolor": "white"
           }
          },
          "shapedefaults": {
           "line": {
            "color": "#2a3f5f"
           }
          },
          "ternary": {
           "aaxis": {
            "gridcolor": "white",
            "linecolor": "white",
            "ticks": ""
           },
           "baxis": {
            "gridcolor": "white",
            "linecolor": "white",
            "ticks": ""
           },
           "bgcolor": "#E5ECF6",
           "caxis": {
            "gridcolor": "white",
            "linecolor": "white",
            "ticks": ""
           }
          },
          "title": {
           "x": 0.05
          },
          "xaxis": {
           "automargin": true,
           "gridcolor": "white",
           "linecolor": "white",
           "ticks": "",
           "title": {
            "standoff": 15
           },
           "zerolinecolor": "white",
           "zerolinewidth": 2
          },
          "yaxis": {
           "automargin": true,
           "gridcolor": "white",
           "linecolor": "white",
           "ticks": "",
           "title": {
            "standoff": 15
           },
           "zerolinecolor": "white",
           "zerolinewidth": 2
          }
         }
        },
        "title": {
         "text": "Evolución de la Tasa de Desocupación"
        },
        "xaxis": {
         "anchor": "y",
         "domain": [
          0,
          1
         ],
         "title": {
          "text": "Año"
         }
        },
        "yaxis": {
         "anchor": "x",
         "domain": [
          0,
          1
         ],
         "title": {
          "text": "Tasa de desocupación"
         }
        }
       }
      }
     },
     "metadata": {},
     "output_type": "display_data"
    }
   ],
   "source": [
    "fig = px.line(df_desocupacion, x=\"Año\", y=\"Tasa de desocupación\", title=\"Evolución de la Tasa de Desocupación\")\n",
    "fig.show()"
   ]
  },
  {
   "cell_type": "code",
   "execution_count": 5,
   "metadata": {},
   "outputs": [
    {
     "name": "stdout",
     "output_type": "stream",
     "text": [
      "Datos de desocupación anual:\n",
      "    Año Tasa de desocupación\n",
      "0  2010             8.062352\n",
      "1  2011             7.144536\n",
      "2  2012             6.418607\n",
      "3  2013             5.980178\n",
      "4  2014             6.322844\n"
     ]
    }
   ],
   "source": [
    "df_desocupacion_anual = df_desocupacion.groupby('Año')['Tasa de desocupación'].mean().reset_index()\n",
    "print(\"Datos de desocupación anual:\")\n",
    "print(df_desocupacion_anual.head())"
   ]
  },
  {
   "cell_type": "markdown",
   "metadata": {},
   "source": [
    "# Visualizacion precios de ventas vivienda\n"
   ]
  },
  {
   "cell_type": "code",
   "execution_count": 6,
   "metadata": {},
   "outputs": [],
   "source": [
    "file_path = r'C:\\Users\\azuka\\OneDrive\\Documentos\\U\\Analitica\\PRIndicedePreciosdeVivienda_Banco Central.xlsx'\n",
    "ipv_zona_geografica = pd.read_excel(file_path, sheet_name=0, skiprows=3)"
   ]
  },
  {
   "cell_type": "code",
   "execution_count": 7,
   "metadata": {},
   "outputs": [
    {
     "name": "stdout",
     "output_type": "stream",
     "text": [
      "Datos de precios de vivienda limpio:\n",
      "       Año     General       Casas  Departamentos\n",
      "46  2013.0  129.800890  132.932147     126.226441\n",
      "47  2013.0  134.192260  137.371567     130.564706\n",
      "48  2013.0  135.451158  138.266320     132.251194\n",
      "49  2013.0  139.356279  141.972336     136.392452\n",
      "50  2014.0  139.384357  142.121621     136.267826\n"
     ]
    },
    {
     "data": {
      "application/vnd.plotly.v1+json": {
       "config": {
        "plotlyServerURL": "https://plot.ly"
       },
       "data": [
        {
         "hovertemplate": "Categoría=General<br>Año=%{x}<br>Índice de Precios=%{y}<extra></extra>",
         "legendgroup": "General",
         "line": {
          "color": "#636efa",
          "dash": "solid"
         },
         "marker": {
          "symbol": "circle"
         },
         "mode": "lines",
         "name": "General",
         "orientation": "v",
         "showlegend": true,
         "type": "scatter",
         "x": [
          2013,
          2013,
          2013,
          2013,
          2014,
          2014,
          2014,
          2014,
          2015,
          2015,
          2015,
          2015,
          2016,
          2016,
          2016,
          2016,
          2017,
          2017,
          2017,
          2017,
          2018,
          2018,
          2018,
          2018,
          2019,
          2019,
          2019,
          2019,
          2020,
          2020,
          2020,
          2020,
          2021,
          2021
         ],
         "xaxis": "x",
         "y": [
          129.800889825413,
          134.192259590531,
          135.45115757327,
          139.356278597099,
          139.384357317658,
          141.567367031292,
          146.792671250873,
          151.723321263563,
          152.739502054687,
          156.798190027593,
          162.650568140972,
          165.658169019014,
          164.239286235707,
          161.628630661171,
          162.82692011685,
          167.47841577448,
          169.662307420178,
          171.995322097925,
          175.061989385568,
          180.196516552669,
          179.468411695971,
          183.417460106636,
          189.430514901439,
          192.421749066735,
          193.851580059135,
          192.090211672203,
          196.453464169102,
          200.03827127431,
          201.387594556727,
          205.305787360747,
          201.59744407481,
          206.74631621054,
          215.654786472356,
          221.739818829322
         ],
         "yaxis": "y"
        },
        {
         "hovertemplate": "Categoría=Casas<br>Año=%{x}<br>Índice de Precios=%{y}<extra></extra>",
         "legendgroup": "Casas",
         "line": {
          "color": "#EF553B",
          "dash": "solid"
         },
         "marker": {
          "symbol": "circle"
         },
         "mode": "lines",
         "name": "Casas",
         "orientation": "v",
         "showlegend": true,
         "type": "scatter",
         "x": [
          2013,
          2013,
          2013,
          2013,
          2014,
          2014,
          2014,
          2014,
          2015,
          2015,
          2015,
          2015,
          2016,
          2016,
          2016,
          2016,
          2017,
          2017,
          2017,
          2017,
          2018,
          2018,
          2018,
          2018,
          2019,
          2019,
          2019,
          2019,
          2020,
          2020,
          2020,
          2020,
          2021,
          2021
         ],
         "xaxis": "x",
         "y": [
          132.932146676866,
          137.371567326491,
          138.26632040211,
          141.972336242683,
          142.121620502711,
          144.002458450347,
          149.928869988556,
          155.117878354887,
          153.219314418403,
          158.344296916,
          165.173301582391,
          168.106531508085,
          163.935383230832,
          160.964330552126,
          164.366784070093,
          168.392470380961,
          167.618305569395,
          169.785280735309,
          174.656379386253,
          180.800916739815,
          179.158102880609,
          185.281644926758,
          192.54687395958,
          194.752581442784,
          195.209558469796,
          194.218567653933,
          203.59804271014,
          207.755628508206,
          205.391696525412,
          209.849915310669,
          203.700415218289,
          210.911122572799,
          223.314396302641,
          230.508079670695
         ],
         "yaxis": "y"
        },
        {
         "hovertemplate": "Categoría=Departamentos<br>Año=%{x}<br>Índice de Precios=%{y}<extra></extra>",
         "legendgroup": "Departamentos",
         "line": {
          "color": "#00cc96",
          "dash": "solid"
         },
         "marker": {
          "symbol": "circle"
         },
         "mode": "lines",
         "name": "Departamentos",
         "orientation": "v",
         "showlegend": true,
         "type": "scatter",
         "x": [
          2013,
          2013,
          2013,
          2013,
          2014,
          2014,
          2014,
          2014,
          2015,
          2015,
          2015,
          2015,
          2016,
          2016,
          2016,
          2016,
          2017,
          2017,
          2017,
          2017,
          2018,
          2018,
          2018,
          2018,
          2019,
          2019,
          2019,
          2019,
          2020,
          2020,
          2020,
          2020,
          2021,
          2021
         ],
         "xaxis": "x",
         "y": [
          126.226441088949,
          130.564705709946,
          132.251194106602,
          136.39245243149,
          136.267826017905,
          138.794012292021,
          143.222563085259,
          147.859461447046,
          151.960278126,
          154.893030911906,
          159.710301013473,
          162.790489084669,
          164.126359102944,
          161.877210185728,
          160.901618028195,
          166.157796003334,
          171.147975258274,
          173.631496536813,
          174.988507428398,
          179.157170617966,
          179.387781179392,
          181.557918300641,
          186.539646662994,
          190.165297032821,
          192.41302909866,
          189.979907041042,
          189.948663396081,
          193.027696659472,
          197.549301773167,
          201.036617477262,
          199.223740935414,
          202.764144877004,
          208.689845088101,
          213.829360433497
         ],
         "yaxis": "y"
        }
       ],
       "layout": {
        "legend": {
         "title": {
          "text": "Categoría"
         },
         "tracegroupgap": 0
        },
        "template": {
         "data": {
          "bar": [
           {
            "error_x": {
             "color": "#2a3f5f"
            },
            "error_y": {
             "color": "#2a3f5f"
            },
            "marker": {
             "line": {
              "color": "#E5ECF6",
              "width": 0.5
             },
             "pattern": {
              "fillmode": "overlay",
              "size": 10,
              "solidity": 0.2
             }
            },
            "type": "bar"
           }
          ],
          "barpolar": [
           {
            "marker": {
             "line": {
              "color": "#E5ECF6",
              "width": 0.5
             },
             "pattern": {
              "fillmode": "overlay",
              "size": 10,
              "solidity": 0.2
             }
            },
            "type": "barpolar"
           }
          ],
          "carpet": [
           {
            "aaxis": {
             "endlinecolor": "#2a3f5f",
             "gridcolor": "white",
             "linecolor": "white",
             "minorgridcolor": "white",
             "startlinecolor": "#2a3f5f"
            },
            "baxis": {
             "endlinecolor": "#2a3f5f",
             "gridcolor": "white",
             "linecolor": "white",
             "minorgridcolor": "white",
             "startlinecolor": "#2a3f5f"
            },
            "type": "carpet"
           }
          ],
          "choropleth": [
           {
            "colorbar": {
             "outlinewidth": 0,
             "ticks": ""
            },
            "type": "choropleth"
           }
          ],
          "contour": [
           {
            "colorbar": {
             "outlinewidth": 0,
             "ticks": ""
            },
            "colorscale": [
             [
              0,
              "#0d0887"
             ],
             [
              0.1111111111111111,
              "#46039f"
             ],
             [
              0.2222222222222222,
              "#7201a8"
             ],
             [
              0.3333333333333333,
              "#9c179e"
             ],
             [
              0.4444444444444444,
              "#bd3786"
             ],
             [
              0.5555555555555556,
              "#d8576b"
             ],
             [
              0.6666666666666666,
              "#ed7953"
             ],
             [
              0.7777777777777778,
              "#fb9f3a"
             ],
             [
              0.8888888888888888,
              "#fdca26"
             ],
             [
              1,
              "#f0f921"
             ]
            ],
            "type": "contour"
           }
          ],
          "contourcarpet": [
           {
            "colorbar": {
             "outlinewidth": 0,
             "ticks": ""
            },
            "type": "contourcarpet"
           }
          ],
          "heatmap": [
           {
            "colorbar": {
             "outlinewidth": 0,
             "ticks": ""
            },
            "colorscale": [
             [
              0,
              "#0d0887"
             ],
             [
              0.1111111111111111,
              "#46039f"
             ],
             [
              0.2222222222222222,
              "#7201a8"
             ],
             [
              0.3333333333333333,
              "#9c179e"
             ],
             [
              0.4444444444444444,
              "#bd3786"
             ],
             [
              0.5555555555555556,
              "#d8576b"
             ],
             [
              0.6666666666666666,
              "#ed7953"
             ],
             [
              0.7777777777777778,
              "#fb9f3a"
             ],
             [
              0.8888888888888888,
              "#fdca26"
             ],
             [
              1,
              "#f0f921"
             ]
            ],
            "type": "heatmap"
           }
          ],
          "heatmapgl": [
           {
            "colorbar": {
             "outlinewidth": 0,
             "ticks": ""
            },
            "colorscale": [
             [
              0,
              "#0d0887"
             ],
             [
              0.1111111111111111,
              "#46039f"
             ],
             [
              0.2222222222222222,
              "#7201a8"
             ],
             [
              0.3333333333333333,
              "#9c179e"
             ],
             [
              0.4444444444444444,
              "#bd3786"
             ],
             [
              0.5555555555555556,
              "#d8576b"
             ],
             [
              0.6666666666666666,
              "#ed7953"
             ],
             [
              0.7777777777777778,
              "#fb9f3a"
             ],
             [
              0.8888888888888888,
              "#fdca26"
             ],
             [
              1,
              "#f0f921"
             ]
            ],
            "type": "heatmapgl"
           }
          ],
          "histogram": [
           {
            "marker": {
             "pattern": {
              "fillmode": "overlay",
              "size": 10,
              "solidity": 0.2
             }
            },
            "type": "histogram"
           }
          ],
          "histogram2d": [
           {
            "colorbar": {
             "outlinewidth": 0,
             "ticks": ""
            },
            "colorscale": [
             [
              0,
              "#0d0887"
             ],
             [
              0.1111111111111111,
              "#46039f"
             ],
             [
              0.2222222222222222,
              "#7201a8"
             ],
             [
              0.3333333333333333,
              "#9c179e"
             ],
             [
              0.4444444444444444,
              "#bd3786"
             ],
             [
              0.5555555555555556,
              "#d8576b"
             ],
             [
              0.6666666666666666,
              "#ed7953"
             ],
             [
              0.7777777777777778,
              "#fb9f3a"
             ],
             [
              0.8888888888888888,
              "#fdca26"
             ],
             [
              1,
              "#f0f921"
             ]
            ],
            "type": "histogram2d"
           }
          ],
          "histogram2dcontour": [
           {
            "colorbar": {
             "outlinewidth": 0,
             "ticks": ""
            },
            "colorscale": [
             [
              0,
              "#0d0887"
             ],
             [
              0.1111111111111111,
              "#46039f"
             ],
             [
              0.2222222222222222,
              "#7201a8"
             ],
             [
              0.3333333333333333,
              "#9c179e"
             ],
             [
              0.4444444444444444,
              "#bd3786"
             ],
             [
              0.5555555555555556,
              "#d8576b"
             ],
             [
              0.6666666666666666,
              "#ed7953"
             ],
             [
              0.7777777777777778,
              "#fb9f3a"
             ],
             [
              0.8888888888888888,
              "#fdca26"
             ],
             [
              1,
              "#f0f921"
             ]
            ],
            "type": "histogram2dcontour"
           }
          ],
          "mesh3d": [
           {
            "colorbar": {
             "outlinewidth": 0,
             "ticks": ""
            },
            "type": "mesh3d"
           }
          ],
          "parcoords": [
           {
            "line": {
             "colorbar": {
              "outlinewidth": 0,
              "ticks": ""
             }
            },
            "type": "parcoords"
           }
          ],
          "pie": [
           {
            "automargin": true,
            "type": "pie"
           }
          ],
          "scatter": [
           {
            "fillpattern": {
             "fillmode": "overlay",
             "size": 10,
             "solidity": 0.2
            },
            "type": "scatter"
           }
          ],
          "scatter3d": [
           {
            "line": {
             "colorbar": {
              "outlinewidth": 0,
              "ticks": ""
             }
            },
            "marker": {
             "colorbar": {
              "outlinewidth": 0,
              "ticks": ""
             }
            },
            "type": "scatter3d"
           }
          ],
          "scattercarpet": [
           {
            "marker": {
             "colorbar": {
              "outlinewidth": 0,
              "ticks": ""
             }
            },
            "type": "scattercarpet"
           }
          ],
          "scattergeo": [
           {
            "marker": {
             "colorbar": {
              "outlinewidth": 0,
              "ticks": ""
             }
            },
            "type": "scattergeo"
           }
          ],
          "scattergl": [
           {
            "marker": {
             "colorbar": {
              "outlinewidth": 0,
              "ticks": ""
             }
            },
            "type": "scattergl"
           }
          ],
          "scattermapbox": [
           {
            "marker": {
             "colorbar": {
              "outlinewidth": 0,
              "ticks": ""
             }
            },
            "type": "scattermapbox"
           }
          ],
          "scatterpolar": [
           {
            "marker": {
             "colorbar": {
              "outlinewidth": 0,
              "ticks": ""
             }
            },
            "type": "scatterpolar"
           }
          ],
          "scatterpolargl": [
           {
            "marker": {
             "colorbar": {
              "outlinewidth": 0,
              "ticks": ""
             }
            },
            "type": "scatterpolargl"
           }
          ],
          "scatterternary": [
           {
            "marker": {
             "colorbar": {
              "outlinewidth": 0,
              "ticks": ""
             }
            },
            "type": "scatterternary"
           }
          ],
          "surface": [
           {
            "colorbar": {
             "outlinewidth": 0,
             "ticks": ""
            },
            "colorscale": [
             [
              0,
              "#0d0887"
             ],
             [
              0.1111111111111111,
              "#46039f"
             ],
             [
              0.2222222222222222,
              "#7201a8"
             ],
             [
              0.3333333333333333,
              "#9c179e"
             ],
             [
              0.4444444444444444,
              "#bd3786"
             ],
             [
              0.5555555555555556,
              "#d8576b"
             ],
             [
              0.6666666666666666,
              "#ed7953"
             ],
             [
              0.7777777777777778,
              "#fb9f3a"
             ],
             [
              0.8888888888888888,
              "#fdca26"
             ],
             [
              1,
              "#f0f921"
             ]
            ],
            "type": "surface"
           }
          ],
          "table": [
           {
            "cells": {
             "fill": {
              "color": "#EBF0F8"
             },
             "line": {
              "color": "white"
             }
            },
            "header": {
             "fill": {
              "color": "#C8D4E3"
             },
             "line": {
              "color": "white"
             }
            },
            "type": "table"
           }
          ]
         },
         "layout": {
          "annotationdefaults": {
           "arrowcolor": "#2a3f5f",
           "arrowhead": 0,
           "arrowwidth": 1
          },
          "autotypenumbers": "strict",
          "coloraxis": {
           "colorbar": {
            "outlinewidth": 0,
            "ticks": ""
           }
          },
          "colorscale": {
           "diverging": [
            [
             0,
             "#8e0152"
            ],
            [
             0.1,
             "#c51b7d"
            ],
            [
             0.2,
             "#de77ae"
            ],
            [
             0.3,
             "#f1b6da"
            ],
            [
             0.4,
             "#fde0ef"
            ],
            [
             0.5,
             "#f7f7f7"
            ],
            [
             0.6,
             "#e6f5d0"
            ],
            [
             0.7,
             "#b8e186"
            ],
            [
             0.8,
             "#7fbc41"
            ],
            [
             0.9,
             "#4d9221"
            ],
            [
             1,
             "#276419"
            ]
           ],
           "sequential": [
            [
             0,
             "#0d0887"
            ],
            [
             0.1111111111111111,
             "#46039f"
            ],
            [
             0.2222222222222222,
             "#7201a8"
            ],
            [
             0.3333333333333333,
             "#9c179e"
            ],
            [
             0.4444444444444444,
             "#bd3786"
            ],
            [
             0.5555555555555556,
             "#d8576b"
            ],
            [
             0.6666666666666666,
             "#ed7953"
            ],
            [
             0.7777777777777778,
             "#fb9f3a"
            ],
            [
             0.8888888888888888,
             "#fdca26"
            ],
            [
             1,
             "#f0f921"
            ]
           ],
           "sequentialminus": [
            [
             0,
             "#0d0887"
            ],
            [
             0.1111111111111111,
             "#46039f"
            ],
            [
             0.2222222222222222,
             "#7201a8"
            ],
            [
             0.3333333333333333,
             "#9c179e"
            ],
            [
             0.4444444444444444,
             "#bd3786"
            ],
            [
             0.5555555555555556,
             "#d8576b"
            ],
            [
             0.6666666666666666,
             "#ed7953"
            ],
            [
             0.7777777777777778,
             "#fb9f3a"
            ],
            [
             0.8888888888888888,
             "#fdca26"
            ],
            [
             1,
             "#f0f921"
            ]
           ]
          },
          "colorway": [
           "#636efa",
           "#EF553B",
           "#00cc96",
           "#ab63fa",
           "#FFA15A",
           "#19d3f3",
           "#FF6692",
           "#B6E880",
           "#FF97FF",
           "#FECB52"
          ],
          "font": {
           "color": "#2a3f5f"
          },
          "geo": {
           "bgcolor": "white",
           "lakecolor": "white",
           "landcolor": "#E5ECF6",
           "showlakes": true,
           "showland": true,
           "subunitcolor": "white"
          },
          "hoverlabel": {
           "align": "left"
          },
          "hovermode": "closest",
          "mapbox": {
           "style": "light"
          },
          "paper_bgcolor": "white",
          "plot_bgcolor": "#E5ECF6",
          "polar": {
           "angularaxis": {
            "gridcolor": "white",
            "linecolor": "white",
            "ticks": ""
           },
           "bgcolor": "#E5ECF6",
           "radialaxis": {
            "gridcolor": "white",
            "linecolor": "white",
            "ticks": ""
           }
          },
          "scene": {
           "xaxis": {
            "backgroundcolor": "#E5ECF6",
            "gridcolor": "white",
            "gridwidth": 2,
            "linecolor": "white",
            "showbackground": true,
            "ticks": "",
            "zerolinecolor": "white"
           },
           "yaxis": {
            "backgroundcolor": "#E5ECF6",
            "gridcolor": "white",
            "gridwidth": 2,
            "linecolor": "white",
            "showbackground": true,
            "ticks": "",
            "zerolinecolor": "white"
           },
           "zaxis": {
            "backgroundcolor": "#E5ECF6",
            "gridcolor": "white",
            "gridwidth": 2,
            "linecolor": "white",
            "showbackground": true,
            "ticks": "",
            "zerolinecolor": "white"
           }
          },
          "shapedefaults": {
           "line": {
            "color": "#2a3f5f"
           }
          },
          "ternary": {
           "aaxis": {
            "gridcolor": "white",
            "linecolor": "white",
            "ticks": ""
           },
           "baxis": {
            "gridcolor": "white",
            "linecolor": "white",
            "ticks": ""
           },
           "bgcolor": "#E5ECF6",
           "caxis": {
            "gridcolor": "white",
            "linecolor": "white",
            "ticks": ""
           }
          },
          "title": {
           "x": 0.05
          },
          "xaxis": {
           "automargin": true,
           "gridcolor": "white",
           "linecolor": "white",
           "ticks": "",
           "title": {
            "standoff": 15
           },
           "zerolinecolor": "white",
           "zerolinewidth": 2
          },
          "yaxis": {
           "automargin": true,
           "gridcolor": "white",
           "linecolor": "white",
           "ticks": "",
           "title": {
            "standoff": 15
           },
           "zerolinecolor": "white",
           "zerolinewidth": 2
          }
         }
        },
        "title": {
         "text": "Evolución del Índice de Precios de Vivienda por Categoría"
        },
        "xaxis": {
         "anchor": "y",
         "domain": [
          0,
          1
         ],
         "title": {
          "text": "Año"
         }
        },
        "yaxis": {
         "anchor": "x",
         "domain": [
          0,
          1
         ],
         "title": {
          "text": "Índice de Precios"
         }
        }
       }
      }
     },
     "metadata": {},
     "output_type": "display_data"
    }
   ],
   "source": [
    "file_path_vivienda = r'C:\\Users\\azuka\\OneDrive\\Documentos\\U\\Analitica\\PRIndicedePreciosdeVivienda_Banco Central.xlsx'\n",
    "ipv_zona_geografica = pd.read_excel(file_path_vivienda, sheet_name=0, skiprows=3)\n",
    "\n",
    "ipv_zona_geografica_clean = ipv_zona_geografica.dropna(how='all', axis=1)\n",
    "ipv_zona_geografica_clean.columns = [\n",
    "    'Año', 'Trimestre', 'General', 'Casas', 'Departamentos', \n",
    "    'General_tri', 'Casas_tri', 'Departamentos_tri', \n",
    "    'General_anu', 'Casas_anu', 'Departamentos_anu'\n",
    "]\n",
    "\n",
    "ipv_zona_geografica_clean = ipv_zona_geografica_clean[['Año', 'General', 'Casas', 'Departamentos']]\n",
    "ipv_zona_geografica_clean['Año'] = pd.to_numeric(ipv_zona_geografica_clean['Año'], errors='coerce')\n",
    "ipv_zona_geografica_clean['General'] = pd.to_numeric(ipv_zona_geografica_clean['General'], errors='coerce')\n",
    "ipv_zona_geografica_clean['Casas'] = pd.to_numeric(ipv_zona_geografica_clean['Casas'], errors='coerce')\n",
    "ipv_zona_geografica_clean['Departamentos'] = pd.to_numeric(ipv_zona_geografica_clean['Departamentos'], errors='coerce')\n",
    "\n",
    "ipv_zona_geografica_clean = ipv_zona_geografica_clean.dropna(subset=['Año'])\n",
    "ipv_zona_geografica_clean = ipv_zona_geografica_clean[ipv_zona_geografica_clean['Año'] >= 2013]\n",
    "\n",
    "print(\"Datos de precios de vivienda limpio:\")\n",
    "print(ipv_zona_geografica_clean.head())\n",
    "\n",
    "fig = px.line(ipv_zona_geografica_clean, \n",
    "              x='Año', \n",
    "              y=['General', 'Casas', 'Departamentos'], \n",
    "              labels={'value': 'Índice de Precios', 'variable': 'Categoría'},\n",
    "              title='Evolución del Índice de Precios de Vivienda por Categoría')\n",
    "fig.show()"
   ]
  },
  {
   "cell_type": "code",
   "execution_count": 8,
   "metadata": {},
   "outputs": [
    {
     "name": "stdout",
     "output_type": "stream",
     "text": [
      "Datos de precios de vivienda anual:\n",
      "      Año     General\n",
      "0  2013.0  134.700146\n",
      "1  2014.0  144.866929\n",
      "2  2015.0  159.461607\n",
      "3  2016.0  164.043313\n",
      "4  2017.0  174.229034\n"
     ]
    }
   ],
   "source": [
    "vivienda_anual = ipv_zona_geografica_clean.groupby('Año')['General'].mean().reset_index()\n",
    "print(\"Datos de precios de vivienda anual:\")\n",
    "print(vivienda_anual.head())"
   ]
  },
  {
   "cell_type": "markdown",
   "metadata": {},
   "source": [
    "# Visualizacion IPC"
   ]
  },
  {
   "cell_type": "code",
   "execution_count": 9,
   "metadata": {},
   "outputs": [],
   "source": [
    "file_path_ipc = r'C:\\Users\\azuka\\OneDrive\\Documentos\\U\\Analitica\\serie-histórica-empalmada-ipc-diciembre-2009-a-la-fecha-xls.xlsx'\n",
    "IPCR = pd.read_excel(file_path_ipc, sheet_name=0, skiprows=2)"
   ]
  },
  {
   "cell_type": "code",
   "execution_count": 10,
   "metadata": {},
   "outputs": [
    {
     "name": "stdout",
     "output_type": "stream",
     "text": [
      "Datos del IPC limpio:\n",
      "       Año  Mes  Índice  Variación Mensual (%)  Variación 12 Meses (%)\n",
      "38  2013.0  1.0   62.67                    0.2                     1.6\n",
      "39  2013.0  2.0   62.74                    0.1                     1.3\n",
      "40  2013.0  3.0   62.98                    0.4                     1.5\n",
      "41  2013.0  4.0   62.68                   -0.5                     1.0\n",
      "42  2013.0  5.0   62.67                    0.0                     0.9\n"
     ]
    },
    {
     "data": {
      "application/vnd.plotly.v1+json": {
       "config": {
        "plotlyServerURL": "https://plot.ly"
       },
       "data": [
        {
         "hovertemplate": "Categoría=Índice<br>Año=%{x}<br>Valor=%{y}<extra></extra>",
         "legendgroup": "Índice",
         "line": {
          "color": "#636efa",
          "dash": "solid"
         },
         "marker": {
          "symbol": "circle"
         },
         "mode": "lines",
         "name": "Índice",
         "orientation": "v",
         "showlegend": true,
         "type": "scatter",
         "x": [
          2013,
          2013,
          2013,
          2013,
          2013,
          2013,
          2013,
          2013,
          2013,
          2013,
          2013,
          2013,
          2014,
          2014,
          2014,
          2014,
          2014,
          2014,
          2014,
          2014,
          2014,
          2014,
          2014,
          2014,
          2015,
          2015,
          2015,
          2015,
          2015,
          2015,
          2015,
          2015,
          2015,
          2015,
          2015,
          2015,
          2016,
          2016,
          2016,
          2016,
          2016,
          2016,
          2016,
          2016,
          2016,
          2016,
          2016,
          2016,
          2017,
          2017,
          2017,
          2017,
          2017,
          2017,
          2017,
          2017,
          2017,
          2017,
          2017,
          2017,
          2018,
          2018,
          2018,
          2018,
          2018,
          2018,
          2018,
          2018,
          2018,
          2018,
          2018,
          2018,
          2019,
          2019,
          2019,
          2019,
          2019,
          2019,
          2019,
          2019,
          2019,
          2019,
          2019,
          2019,
          2020,
          2020,
          2020,
          2020,
          2020,
          2020,
          2020,
          2020,
          2020,
          2020,
          2020,
          2020,
          2021,
          2021,
          2021,
          2021,
          2021,
          2021,
          2021,
          2021,
          2021,
          2021,
          2021,
          2021,
          2022,
          2022,
          2022,
          2022,
          2022,
          2022,
          2022,
          2022,
          2022,
          2022,
          2022,
          2022,
          2023,
          2023,
          2023,
          2023,
          2023,
          2023,
          2023,
          2023,
          2023,
          2023,
          2023,
          2023,
          2024,
          2024,
          2024,
          2024,
          2024,
          2024,
          2024,
          2024
         ],
         "xaxis": "x",
         "y": [
          62.67,
          62.74,
          62.98,
          62.68,
          62.67,
          63.07,
          63.24,
          63.39,
          63.73,
          63.82,
          64.06,
          64.44,
          64.56,
          64.87,
          65.41,
          65.82,
          66.04,
          66.08,
          66.23,
          66.44,
          67,
          67.7,
          67.71,
          67.43,
          67.49,
          67.72,
          68.15,
          68.54,
          68.66,
          69,
          69.29,
          69.76,
          70.11,
          70.4,
          70.38,
          70.39,
          70.72,
          70.91,
          71.18,
          71.42,
          71.58,
          71.9,
          72.07,
          72.11,
          72.28,
          72.4,
          72.44,
          72.29,
          72.68,
          72.86,
          73.14,
          73.31,
          73.4,
          73.12,
          73.29,
          73.44,
          73.33,
          73.76,
          73.83,
          73.93,
          74.27,
          74.31,
          74.46,
          74.7,
          74.9,
          74.98,
          75.25,
          75.38,
          75.63,
          75.91,
          75.91,
          75.83,
          75.91,
          75.95,
          76.31,
          76.51,
          76.97,
          77.01,
          77.18,
          77.32,
          77.33,
          77.96,
          78.03,
          78.1,
          78.55,
          78.9,
          79.16,
          79.13,
          79.09,
          79.03,
          79.11,
          79.22,
          79.72,
          80.27,
          80.16,
          80.43,
          80.99,
          81.14,
          81.45,
          81.75,
          81.97,
          82.04,
          82.7,
          83,
          83.98,
          85.1,
          85.53,
          86.2,
          87.23,
          87.48,
          89.11,
          90.35,
          91.43,
          92.29,
          93.56,
          94.69,
          95.51,
          96,
          96.94,
          97.21,
          98,
          97.93,
          99,
          99.3,
          99.41,
          99.26,
          99.61,
          99.72,
          100.39,
          100.84,
          101.59,
          101.04,
          101.72,
          102.32,
          102.7,
          103.24,
          103.52,
          103.42,
          104.19,
          104.45
         ],
         "yaxis": "y"
        },
        {
         "hovertemplate": "Categoría=Variación Mensual (%)<br>Año=%{x}<br>Valor=%{y}<extra></extra>",
         "legendgroup": "Variación Mensual (%)",
         "line": {
          "color": "#EF553B",
          "dash": "solid"
         },
         "marker": {
          "symbol": "circle"
         },
         "mode": "lines",
         "name": "Variación Mensual (%)",
         "orientation": "v",
         "showlegend": true,
         "type": "scatter",
         "x": [
          2013,
          2013,
          2013,
          2013,
          2013,
          2013,
          2013,
          2013,
          2013,
          2013,
          2013,
          2013,
          2014,
          2014,
          2014,
          2014,
          2014,
          2014,
          2014,
          2014,
          2014,
          2014,
          2014,
          2014,
          2015,
          2015,
          2015,
          2015,
          2015,
          2015,
          2015,
          2015,
          2015,
          2015,
          2015,
          2015,
          2016,
          2016,
          2016,
          2016,
          2016,
          2016,
          2016,
          2016,
          2016,
          2016,
          2016,
          2016,
          2017,
          2017,
          2017,
          2017,
          2017,
          2017,
          2017,
          2017,
          2017,
          2017,
          2017,
          2017,
          2018,
          2018,
          2018,
          2018,
          2018,
          2018,
          2018,
          2018,
          2018,
          2018,
          2018,
          2018,
          2019,
          2019,
          2019,
          2019,
          2019,
          2019,
          2019,
          2019,
          2019,
          2019,
          2019,
          2019,
          2020,
          2020,
          2020,
          2020,
          2020,
          2020,
          2020,
          2020,
          2020,
          2020,
          2020,
          2020,
          2021,
          2021,
          2021,
          2021,
          2021,
          2021,
          2021,
          2021,
          2021,
          2021,
          2021,
          2021,
          2022,
          2022,
          2022,
          2022,
          2022,
          2022,
          2022,
          2022,
          2022,
          2022,
          2022,
          2022,
          2023,
          2023,
          2023,
          2023,
          2023,
          2023,
          2023,
          2023,
          2023,
          2023,
          2023,
          2023,
          2024,
          2024,
          2024,
          2024,
          2024,
          2024,
          2024,
          2024
         ],
         "xaxis": "x",
         "y": [
          0.2,
          0.1,
          0.4,
          -0.5,
          0,
          0.6,
          0.3,
          0.2,
          0.5,
          0.1,
          0.4,
          0.6,
          0.2,
          0.5,
          0.8,
          0.6,
          0.3,
          0.1,
          0.2,
          0.3,
          0.8,
          1,
          0,
          -0.4,
          0.1,
          0.4,
          0.6,
          0.6,
          0.2,
          0.5,
          0.4,
          0.7,
          0.5,
          0.4,
          0,
          0,
          0.5,
          0.3,
          0.4,
          0.3,
          0.2,
          0.4,
          0.2,
          0,
          0.2,
          0.2,
          0.1,
          -0.2,
          0.5,
          0.2,
          0.4,
          0.2,
          0.1,
          -0.4,
          0.2,
          0.2,
          -0.2,
          0.6,
          0.1,
          0.1,
          0.5,
          0,
          0.2,
          0.3,
          0.3,
          0.1,
          0.4,
          0.2,
          0.3,
          0.4,
          0,
          -0.1,
          0.1,
          0,
          0.5,
          0.3,
          0.6,
          0,
          0.2,
          0.2,
          0,
          0.8,
          0.1,
          0.1,
          0.6,
          0.4,
          0.3,
          0,
          -0.1,
          -0.1,
          0.1,
          0.1,
          0.6,
          0.7,
          -0.1,
          0.3,
          0.7,
          0.2,
          0.4,
          0.4,
          0.3,
          0.1,
          0.8,
          0.4,
          1.2,
          1.3,
          0.5,
          0.8,
          1.2,
          0.3,
          1.9,
          1.4,
          1.2,
          0.9,
          1.4,
          1.2,
          0.9,
          0.5,
          1,
          0.3,
          0.8,
          -0.1,
          1.1,
          0.3,
          0.1,
          -0.2,
          0.4,
          0.1,
          0.7,
          0.4,
          0.7,
          -0.5,
          0.7,
          0.6,
          0.4,
          0.5,
          0.3,
          -0.1,
          0.7,
          0.3
         ],
         "yaxis": "y"
        },
        {
         "hovertemplate": "Categoría=Variación 12 Meses (%)<br>Año=%{x}<br>Valor=%{y}<extra></extra>",
         "legendgroup": "Variación 12 Meses (%)",
         "line": {
          "color": "#00cc96",
          "dash": "solid"
         },
         "marker": {
          "symbol": "circle"
         },
         "mode": "lines",
         "name": "Variación 12 Meses (%)",
         "orientation": "v",
         "showlegend": true,
         "type": "scatter",
         "x": [
          2013,
          2013,
          2013,
          2013,
          2013,
          2013,
          2013,
          2013,
          2013,
          2013,
          2013,
          2013,
          2014,
          2014,
          2014,
          2014,
          2014,
          2014,
          2014,
          2014,
          2014,
          2014,
          2014,
          2014,
          2015,
          2015,
          2015,
          2015,
          2015,
          2015,
          2015,
          2015,
          2015,
          2015,
          2015,
          2015,
          2016,
          2016,
          2016,
          2016,
          2016,
          2016,
          2016,
          2016,
          2016,
          2016,
          2016,
          2016,
          2017,
          2017,
          2017,
          2017,
          2017,
          2017,
          2017,
          2017,
          2017,
          2017,
          2017,
          2017,
          2018,
          2018,
          2018,
          2018,
          2018,
          2018,
          2018,
          2018,
          2018,
          2018,
          2018,
          2018,
          2019,
          2019,
          2019,
          2019,
          2019,
          2019,
          2019,
          2019,
          2019,
          2019,
          2019,
          2019,
          2020,
          2020,
          2020,
          2020,
          2020,
          2020,
          2020,
          2020,
          2020,
          2020,
          2020,
          2020,
          2021,
          2021,
          2021,
          2021,
          2021,
          2021,
          2021,
          2021,
          2021,
          2021,
          2021,
          2021,
          2022,
          2022,
          2022,
          2022,
          2022,
          2022,
          2022,
          2022,
          2022,
          2022,
          2022,
          2022,
          2023,
          2023,
          2023,
          2023,
          2023,
          2023,
          2023,
          2023,
          2023,
          2023,
          2023,
          2023,
          2024,
          2024,
          2024,
          2024,
          2024,
          2024,
          2024,
          2024
         ],
         "xaxis": "x",
         "y": [
          1.6,
          1.3,
          1.5,
          1,
          0.9,
          1.9,
          2.2,
          2.2,
          2,
          1.5,
          2.4,
          3,
          3,
          3.4,
          3.9,
          5,
          5.4,
          4.8,
          4.7,
          4.8,
          5.1,
          6.1,
          5.7,
          4.6,
          4.5,
          4.4,
          4.2,
          4.1,
          4,
          4.4,
          4.6,
          5,
          4.6,
          4,
          3.9,
          4.4,
          4.8,
          4.7,
          4.5,
          4.2,
          4.2,
          4.2,
          4,
          3.4,
          3.1,
          2.8,
          2.9,
          2.7,
          2.8,
          2.7,
          2.7,
          2.7,
          2.6,
          1.7,
          1.7,
          1.9,
          1.5,
          1.9,
          1.9,
          2.3,
          2.2,
          2,
          1.8,
          1.9,
          2,
          2.5,
          2.7,
          2.6,
          3.1,
          2.9,
          2.8,
          2.6,
          2.2,
          2.2,
          2.5,
          2.4,
          2.8,
          2.7,
          2.6,
          2.6,
          2.2,
          2.7,
          2.8,
          3,
          3.5,
          3.9,
          3.7,
          3.4,
          2.8,
          2.6,
          2.5,
          2.4,
          3.1,
          3,
          2.7,
          3,
          3.1,
          2.8,
          2.9,
          3.3,
          3.6,
          3.8,
          4.5,
          4.8,
          5.3,
          6,
          6.7,
          7.2,
          7.7,
          7.8,
          9.4,
          10.5,
          11.5,
          12.5,
          13.1,
          14.1,
          13.7,
          12.8,
          13.3,
          12.8,
          12.3,
          11.9,
          11.1,
          9.9,
          8.7,
          7.6,
          6.5,
          5.3,
          5.1,
          5,
          4.8,
          3.9,
          3.8,
          4.5,
          3.7,
          4,
          4.1,
          4.2,
          4.6,
          4.7
         ],
         "yaxis": "y"
        }
       ],
       "layout": {
        "legend": {
         "title": {
          "text": "Categoría"
         },
         "tracegroupgap": 0
        },
        "template": {
         "data": {
          "bar": [
           {
            "error_x": {
             "color": "#2a3f5f"
            },
            "error_y": {
             "color": "#2a3f5f"
            },
            "marker": {
             "line": {
              "color": "#E5ECF6",
              "width": 0.5
             },
             "pattern": {
              "fillmode": "overlay",
              "size": 10,
              "solidity": 0.2
             }
            },
            "type": "bar"
           }
          ],
          "barpolar": [
           {
            "marker": {
             "line": {
              "color": "#E5ECF6",
              "width": 0.5
             },
             "pattern": {
              "fillmode": "overlay",
              "size": 10,
              "solidity": 0.2
             }
            },
            "type": "barpolar"
           }
          ],
          "carpet": [
           {
            "aaxis": {
             "endlinecolor": "#2a3f5f",
             "gridcolor": "white",
             "linecolor": "white",
             "minorgridcolor": "white",
             "startlinecolor": "#2a3f5f"
            },
            "baxis": {
             "endlinecolor": "#2a3f5f",
             "gridcolor": "white",
             "linecolor": "white",
             "minorgridcolor": "white",
             "startlinecolor": "#2a3f5f"
            },
            "type": "carpet"
           }
          ],
          "choropleth": [
           {
            "colorbar": {
             "outlinewidth": 0,
             "ticks": ""
            },
            "type": "choropleth"
           }
          ],
          "contour": [
           {
            "colorbar": {
             "outlinewidth": 0,
             "ticks": ""
            },
            "colorscale": [
             [
              0,
              "#0d0887"
             ],
             [
              0.1111111111111111,
              "#46039f"
             ],
             [
              0.2222222222222222,
              "#7201a8"
             ],
             [
              0.3333333333333333,
              "#9c179e"
             ],
             [
              0.4444444444444444,
              "#bd3786"
             ],
             [
              0.5555555555555556,
              "#d8576b"
             ],
             [
              0.6666666666666666,
              "#ed7953"
             ],
             [
              0.7777777777777778,
              "#fb9f3a"
             ],
             [
              0.8888888888888888,
              "#fdca26"
             ],
             [
              1,
              "#f0f921"
             ]
            ],
            "type": "contour"
           }
          ],
          "contourcarpet": [
           {
            "colorbar": {
             "outlinewidth": 0,
             "ticks": ""
            },
            "type": "contourcarpet"
           }
          ],
          "heatmap": [
           {
            "colorbar": {
             "outlinewidth": 0,
             "ticks": ""
            },
            "colorscale": [
             [
              0,
              "#0d0887"
             ],
             [
              0.1111111111111111,
              "#46039f"
             ],
             [
              0.2222222222222222,
              "#7201a8"
             ],
             [
              0.3333333333333333,
              "#9c179e"
             ],
             [
              0.4444444444444444,
              "#bd3786"
             ],
             [
              0.5555555555555556,
              "#d8576b"
             ],
             [
              0.6666666666666666,
              "#ed7953"
             ],
             [
              0.7777777777777778,
              "#fb9f3a"
             ],
             [
              0.8888888888888888,
              "#fdca26"
             ],
             [
              1,
              "#f0f921"
             ]
            ],
            "type": "heatmap"
           }
          ],
          "heatmapgl": [
           {
            "colorbar": {
             "outlinewidth": 0,
             "ticks": ""
            },
            "colorscale": [
             [
              0,
              "#0d0887"
             ],
             [
              0.1111111111111111,
              "#46039f"
             ],
             [
              0.2222222222222222,
              "#7201a8"
             ],
             [
              0.3333333333333333,
              "#9c179e"
             ],
             [
              0.4444444444444444,
              "#bd3786"
             ],
             [
              0.5555555555555556,
              "#d8576b"
             ],
             [
              0.6666666666666666,
              "#ed7953"
             ],
             [
              0.7777777777777778,
              "#fb9f3a"
             ],
             [
              0.8888888888888888,
              "#fdca26"
             ],
             [
              1,
              "#f0f921"
             ]
            ],
            "type": "heatmapgl"
           }
          ],
          "histogram": [
           {
            "marker": {
             "pattern": {
              "fillmode": "overlay",
              "size": 10,
              "solidity": 0.2
             }
            },
            "type": "histogram"
           }
          ],
          "histogram2d": [
           {
            "colorbar": {
             "outlinewidth": 0,
             "ticks": ""
            },
            "colorscale": [
             [
              0,
              "#0d0887"
             ],
             [
              0.1111111111111111,
              "#46039f"
             ],
             [
              0.2222222222222222,
              "#7201a8"
             ],
             [
              0.3333333333333333,
              "#9c179e"
             ],
             [
              0.4444444444444444,
              "#bd3786"
             ],
             [
              0.5555555555555556,
              "#d8576b"
             ],
             [
              0.6666666666666666,
              "#ed7953"
             ],
             [
              0.7777777777777778,
              "#fb9f3a"
             ],
             [
              0.8888888888888888,
              "#fdca26"
             ],
             [
              1,
              "#f0f921"
             ]
            ],
            "type": "histogram2d"
           }
          ],
          "histogram2dcontour": [
           {
            "colorbar": {
             "outlinewidth": 0,
             "ticks": ""
            },
            "colorscale": [
             [
              0,
              "#0d0887"
             ],
             [
              0.1111111111111111,
              "#46039f"
             ],
             [
              0.2222222222222222,
              "#7201a8"
             ],
             [
              0.3333333333333333,
              "#9c179e"
             ],
             [
              0.4444444444444444,
              "#bd3786"
             ],
             [
              0.5555555555555556,
              "#d8576b"
             ],
             [
              0.6666666666666666,
              "#ed7953"
             ],
             [
              0.7777777777777778,
              "#fb9f3a"
             ],
             [
              0.8888888888888888,
              "#fdca26"
             ],
             [
              1,
              "#f0f921"
             ]
            ],
            "type": "histogram2dcontour"
           }
          ],
          "mesh3d": [
           {
            "colorbar": {
             "outlinewidth": 0,
             "ticks": ""
            },
            "type": "mesh3d"
           }
          ],
          "parcoords": [
           {
            "line": {
             "colorbar": {
              "outlinewidth": 0,
              "ticks": ""
             }
            },
            "type": "parcoords"
           }
          ],
          "pie": [
           {
            "automargin": true,
            "type": "pie"
           }
          ],
          "scatter": [
           {
            "fillpattern": {
             "fillmode": "overlay",
             "size": 10,
             "solidity": 0.2
            },
            "type": "scatter"
           }
          ],
          "scatter3d": [
           {
            "line": {
             "colorbar": {
              "outlinewidth": 0,
              "ticks": ""
             }
            },
            "marker": {
             "colorbar": {
              "outlinewidth": 0,
              "ticks": ""
             }
            },
            "type": "scatter3d"
           }
          ],
          "scattercarpet": [
           {
            "marker": {
             "colorbar": {
              "outlinewidth": 0,
              "ticks": ""
             }
            },
            "type": "scattercarpet"
           }
          ],
          "scattergeo": [
           {
            "marker": {
             "colorbar": {
              "outlinewidth": 0,
              "ticks": ""
             }
            },
            "type": "scattergeo"
           }
          ],
          "scattergl": [
           {
            "marker": {
             "colorbar": {
              "outlinewidth": 0,
              "ticks": ""
             }
            },
            "type": "scattergl"
           }
          ],
          "scattermapbox": [
           {
            "marker": {
             "colorbar": {
              "outlinewidth": 0,
              "ticks": ""
             }
            },
            "type": "scattermapbox"
           }
          ],
          "scatterpolar": [
           {
            "marker": {
             "colorbar": {
              "outlinewidth": 0,
              "ticks": ""
             }
            },
            "type": "scatterpolar"
           }
          ],
          "scatterpolargl": [
           {
            "marker": {
             "colorbar": {
              "outlinewidth": 0,
              "ticks": ""
             }
            },
            "type": "scatterpolargl"
           }
          ],
          "scatterternary": [
           {
            "marker": {
             "colorbar": {
              "outlinewidth": 0,
              "ticks": ""
             }
            },
            "type": "scatterternary"
           }
          ],
          "surface": [
           {
            "colorbar": {
             "outlinewidth": 0,
             "ticks": ""
            },
            "colorscale": [
             [
              0,
              "#0d0887"
             ],
             [
              0.1111111111111111,
              "#46039f"
             ],
             [
              0.2222222222222222,
              "#7201a8"
             ],
             [
              0.3333333333333333,
              "#9c179e"
             ],
             [
              0.4444444444444444,
              "#bd3786"
             ],
             [
              0.5555555555555556,
              "#d8576b"
             ],
             [
              0.6666666666666666,
              "#ed7953"
             ],
             [
              0.7777777777777778,
              "#fb9f3a"
             ],
             [
              0.8888888888888888,
              "#fdca26"
             ],
             [
              1,
              "#f0f921"
             ]
            ],
            "type": "surface"
           }
          ],
          "table": [
           {
            "cells": {
             "fill": {
              "color": "#EBF0F8"
             },
             "line": {
              "color": "white"
             }
            },
            "header": {
             "fill": {
              "color": "#C8D4E3"
             },
             "line": {
              "color": "white"
             }
            },
            "type": "table"
           }
          ]
         },
         "layout": {
          "annotationdefaults": {
           "arrowcolor": "#2a3f5f",
           "arrowhead": 0,
           "arrowwidth": 1
          },
          "autotypenumbers": "strict",
          "coloraxis": {
           "colorbar": {
            "outlinewidth": 0,
            "ticks": ""
           }
          },
          "colorscale": {
           "diverging": [
            [
             0,
             "#8e0152"
            ],
            [
             0.1,
             "#c51b7d"
            ],
            [
             0.2,
             "#de77ae"
            ],
            [
             0.3,
             "#f1b6da"
            ],
            [
             0.4,
             "#fde0ef"
            ],
            [
             0.5,
             "#f7f7f7"
            ],
            [
             0.6,
             "#e6f5d0"
            ],
            [
             0.7,
             "#b8e186"
            ],
            [
             0.8,
             "#7fbc41"
            ],
            [
             0.9,
             "#4d9221"
            ],
            [
             1,
             "#276419"
            ]
           ],
           "sequential": [
            [
             0,
             "#0d0887"
            ],
            [
             0.1111111111111111,
             "#46039f"
            ],
            [
             0.2222222222222222,
             "#7201a8"
            ],
            [
             0.3333333333333333,
             "#9c179e"
            ],
            [
             0.4444444444444444,
             "#bd3786"
            ],
            [
             0.5555555555555556,
             "#d8576b"
            ],
            [
             0.6666666666666666,
             "#ed7953"
            ],
            [
             0.7777777777777778,
             "#fb9f3a"
            ],
            [
             0.8888888888888888,
             "#fdca26"
            ],
            [
             1,
             "#f0f921"
            ]
           ],
           "sequentialminus": [
            [
             0,
             "#0d0887"
            ],
            [
             0.1111111111111111,
             "#46039f"
            ],
            [
             0.2222222222222222,
             "#7201a8"
            ],
            [
             0.3333333333333333,
             "#9c179e"
            ],
            [
             0.4444444444444444,
             "#bd3786"
            ],
            [
             0.5555555555555556,
             "#d8576b"
            ],
            [
             0.6666666666666666,
             "#ed7953"
            ],
            [
             0.7777777777777778,
             "#fb9f3a"
            ],
            [
             0.8888888888888888,
             "#fdca26"
            ],
            [
             1,
             "#f0f921"
            ]
           ]
          },
          "colorway": [
           "#636efa",
           "#EF553B",
           "#00cc96",
           "#ab63fa",
           "#FFA15A",
           "#19d3f3",
           "#FF6692",
           "#B6E880",
           "#FF97FF",
           "#FECB52"
          ],
          "font": {
           "color": "#2a3f5f"
          },
          "geo": {
           "bgcolor": "white",
           "lakecolor": "white",
           "landcolor": "#E5ECF6",
           "showlakes": true,
           "showland": true,
           "subunitcolor": "white"
          },
          "hoverlabel": {
           "align": "left"
          },
          "hovermode": "closest",
          "mapbox": {
           "style": "light"
          },
          "paper_bgcolor": "white",
          "plot_bgcolor": "#E5ECF6",
          "polar": {
           "angularaxis": {
            "gridcolor": "white",
            "linecolor": "white",
            "ticks": ""
           },
           "bgcolor": "#E5ECF6",
           "radialaxis": {
            "gridcolor": "white",
            "linecolor": "white",
            "ticks": ""
           }
          },
          "scene": {
           "xaxis": {
            "backgroundcolor": "#E5ECF6",
            "gridcolor": "white",
            "gridwidth": 2,
            "linecolor": "white",
            "showbackground": true,
            "ticks": "",
            "zerolinecolor": "white"
           },
           "yaxis": {
            "backgroundcolor": "#E5ECF6",
            "gridcolor": "white",
            "gridwidth": 2,
            "linecolor": "white",
            "showbackground": true,
            "ticks": "",
            "zerolinecolor": "white"
           },
           "zaxis": {
            "backgroundcolor": "#E5ECF6",
            "gridcolor": "white",
            "gridwidth": 2,
            "linecolor": "white",
            "showbackground": true,
            "ticks": "",
            "zerolinecolor": "white"
           }
          },
          "shapedefaults": {
           "line": {
            "color": "#2a3f5f"
           }
          },
          "ternary": {
           "aaxis": {
            "gridcolor": "white",
            "linecolor": "white",
            "ticks": ""
           },
           "baxis": {
            "gridcolor": "white",
            "linecolor": "white",
            "ticks": ""
           },
           "bgcolor": "#E5ECF6",
           "caxis": {
            "gridcolor": "white",
            "linecolor": "white",
            "ticks": ""
           }
          },
          "title": {
           "x": 0.05
          },
          "xaxis": {
           "automargin": true,
           "gridcolor": "white",
           "linecolor": "white",
           "ticks": "",
           "title": {
            "standoff": 15
           },
           "zerolinecolor": "white",
           "zerolinewidth": 2
          },
          "yaxis": {
           "automargin": true,
           "gridcolor": "white",
           "linecolor": "white",
           "ticks": "",
           "title": {
            "standoff": 15
           },
           "zerolinecolor": "white",
           "zerolinewidth": 2
          }
         }
        },
        "title": {
         "text": "Evolución del Índice de Precios al Consumidor"
        },
        "xaxis": {
         "anchor": "y",
         "domain": [
          0,
          1
         ],
         "title": {
          "text": "Año"
         }
        },
        "yaxis": {
         "anchor": "x",
         "domain": [
          0,
          1
         ],
         "title": {
          "text": "Valor"
         }
        }
       }
      }
     },
     "metadata": {},
     "output_type": "display_data"
    }
   ],
   "source": [
    "IPC_Clean = IPCR.dropna(how='all', axis=1)\n",
    "IPC_Clean.columns = ['Año', 'Mes', 'Índice', 'Variación Mensual (%)', 'Variación 12 Meses (%)']\n",
    "\n",
    "IPC_Clean['Año'] = pd.to_numeric(IPC_Clean['Año'], errors='coerce')\n",
    "IPC_Clean['Mes'] = pd.to_numeric(IPC_Clean['Mes'], errors='coerce')\n",
    "IPC_Clean['Índice'] = pd.to_numeric(IPC_Clean['Índice'], errors='coerce')\n",
    "IPC_Clean['Variación Mensual (%)'] = pd.to_numeric(IPC_Clean['Variación Mensual (%)'], errors='coerce')\n",
    "IPC_Clean['Variación 12 Meses (%)'] = pd.to_numeric(IPC_Clean['Variación 12 Meses (%)'], errors='coerce')\n",
    "\n",
    "IPC_Clean = IPC_Clean.dropna(subset=['Año'])\n",
    "IPC_Clean = IPC_Clean[IPC_Clean['Año'] >= 2013]\n",
    "\n",
    "print(\"Datos del IPC limpio:\")\n",
    "print(IPC_Clean.head())\n",
    "\n",
    "fig = px.line(IPC_Clean, \n",
    "              x='Año', \n",
    "              y=['Índice', 'Variación Mensual (%)', 'Variación 12 Meses (%)'], \n",
    "              labels={'value': 'Valor', 'variable': 'Categoría'},\n",
    "              title='Evolución del Índice de Precios al Consumidor')\n",
    "fig.show()"
   ]
  },
  {
   "cell_type": "code",
   "execution_count": 11,
   "metadata": {},
   "outputs": [
    {
     "name": "stdout",
     "output_type": "stream",
     "text": [
      "Datos del IPC anual:\n",
      "      Año  Variación 12 Meses (%)\n",
      "0  2013.0                1.791667\n",
      "1  2014.0                4.708333\n",
      "2  2015.0                4.341667\n",
      "3  2016.0                3.791667\n",
      "4  2017.0                2.200000\n"
     ]
    }
   ],
   "source": [
    "ipc_anual = IPC_Clean.groupby('Año')['Variación 12 Meses (%)'].mean().reset_index()\n",
    "print(\"Datos del IPC anual:\")\n",
    "print(ipc_anual.head())"
   ]
  },
  {
   "cell_type": "code",
   "execution_count": 12,
   "metadata": {},
   "outputs": [
    {
     "name": "stdout",
     "output_type": "stream",
     "text": [
      "Datos de natalidad:\n",
      "    Año  Nacimientos  Defunciones\n",
      "0  2023       171992       121270\n",
      "1  2022       189310       136958\n",
      "2  2021       177255       137439\n",
      "3  2020       194952       125833\n",
      "4  2019       210188       109658\n",
      "Datos de natalidad filtrados:\n",
      "    Año  Nacimientos  Defunciones\n",
      "0  2023       171992       121270\n",
      "1  2022       189310       136958\n",
      "2  2021       177255       137439\n",
      "3  2020       194952       125833\n",
      "4  2019       210188       109658\n"
     ]
    }
   ],
   "source": [
    "file_path_natalidad = r'C:\\Users\\azuka\\OneDrive\\Documentos\\U\\Analitica\\setdedatos.csv'\n",
    "natalidad = pd.read_csv(file_path_natalidad, encoding= 'latin1')\n",
    "\n",
    "print(\"Datos de natalidad:\")\n",
    "print(natalidad.head())\n",
    "\n",
    "natalidad['Año'] = pd.to_numeric(natalidad['Año'], errors='coerce')\n",
    "natalidad['Nacimientos'] = pd.to_numeric(natalidad['Nacimientos'], errors='coerce')\n",
    "natalidad['Defunciones'] = pd.to_numeric(natalidad['Defunciones'], errors='coerce')\n",
    "\n",
    "natalidad = natalidad[natalidad['Año'] >= 2013]\n",
    "\n",
    "natalidad = natalidad.dropna(subset=['Año'])\n",
    "\n",
    "print(\"Datos de natalidad filtrados:\")\n",
    "print(natalidad.head())"
   ]
  },
  {
   "cell_type": "code",
   "execution_count": 13,
   "metadata": {},
   "outputs": [
    {
     "name": "stdout",
     "output_type": "stream",
     "text": [
      "Datos combinados anuales:\n",
      "    Año Tasa de desocupación     General  Variación 12 Meses (%)  Nacimientos\n",
      "0  2013             5.980178  134.700146                1.791667       242005\n",
      "1  2014             6.322844  144.866929                4.708333       250997\n",
      "2  2015              6.24376  159.461607                4.341667       244670\n",
      "3  2016             6.491577  164.043313                3.791667       231749\n",
      "4  2017             6.665118  174.229034                2.200000       219186\n",
      "Tipos de datos en df_combined_anual:\n",
      "Año                        object\n",
      "Tasa de desocupación       object\n",
      "General                   float64\n",
      "Variación 12 Meses (%)    float64\n",
      "Nacimientos                 int64\n",
      "dtype: object\n",
      "Cantidad de valores NaN después de la conversión a numérico:\n",
      "Tasa de desocupación      0\n",
      "General                   0\n",
      "Variación 12 Meses (%)    0\n",
      "Nacimientos               0\n",
      "dtype: int64\n",
      "Datos combinados anuales después de eliminar filas con NaN:\n",
      "    Año  Tasa de desocupación     General  Variación 12 Meses (%)  Nacimientos\n",
      "0  2013              5.980178  134.700146                1.791667       242005\n",
      "1  2014              6.322844  144.866929                4.708333       250997\n",
      "2  2015              6.243760  159.461607                4.341667       244670\n",
      "3  2016              6.491577  164.043313                3.791667       231749\n",
      "4  2017              6.665118  174.229034                2.200000       219186\n",
      "Cantidad de filas después de limpieza: 7\n"
     ]
    }
   ],
   "source": [
    "df_combined_anual = df_desocupacion_anual.merge(\n",
    "    vivienda_anual, on='Año', how='inner'\n",
    ").merge(\n",
    "    ipc_anual, on='Año', how='inner'\n",
    ").merge(\n",
    "    natalidad[['Año', 'Nacimientos']], on='Año', how='inner'\n",
    ")\n",
    "\n",
    "print(\"Datos combinados anuales:\")\n",
    "print(df_combined_anual.head())\n",
    "\n",
    "print(\"Tipos de datos en df_combined_anual:\")\n",
    "print(df_combined_anual.dtypes)\n",
    "\n",
    "df_combined_anual['Año'] = pd.to_numeric(df_combined_anual['Año'], errors='coerce')\n",
    "df_combined_anual['Tasa de desocupación'] = pd.to_numeric(df_combined_anual['Tasa de desocupación'], errors='coerce')\n",
    "df_combined_anual['General'] = pd.to_numeric(df_combined_anual['General'], errors='coerce')\n",
    "df_combined_anual['Variación 12 Meses (%)'] = pd.to_numeric(df_combined_anual['Variación 12 Meses (%)'], errors='coerce')\n",
    "df_combined_anual['Nacimientos'] = pd.to_numeric(df_combined_anual['Nacimientos'], errors='coerce')\n",
    "\n",
    "print(\"Cantidad de valores NaN después de la conversión a numérico:\")\n",
    "print(df_combined_anual[['Tasa de desocupación', 'General', 'Variación 12 Meses (%)', 'Nacimientos']].isna().sum())\n",
    "\n",
    "df_combined_anual_clean = df_combined_anual.dropna(subset=['Tasa de desocupación', 'General', 'Variación 12 Meses (%)', 'Nacimientos'])\n",
    "\n",
    "print(\"Datos combinados anuales después de eliminar filas con NaN:\")\n",
    "print(df_combined_anual_clean.head())\n",
    "print(\"Cantidad de filas después de limpieza:\", df_combined_anual_clean.shape[0])"
   ]
  },
  {
   "cell_type": "code",
   "execution_count": 14,
   "metadata": {},
   "outputs": [
    {
     "name": "stdout",
     "output_type": "stream",
     "text": [
      "Correlación entre Tasa de desocupación y Nacimientos: -0.86 (p-valor: 0.0127)\n",
      "Correlación entre General y Nacimientos: -0.89 (p-valor: 0.0065)\n",
      "Correlación entre Variación 12 Meses (%) y Nacimientos: 0.61 (p-valor: 0.1449)\n"
     ]
    },
    {
     "data": {
      "image/png": "[encoded data removed]",
      "text/plain": [
       "<Figure size 800x600 with 2 Axes>"
      ]
     },
     "metadata": {},
     "output_type": "display_data"
    },
    {
     "name": "stdout",
     "output_type": "stream",
     "text": [
      "                            OLS Regression Results                            \n",
      "==============================================================================\n",
      "Dep. Variable:            Nacimientos   R-squared:                       0.951\n",
      "Model:                            OLS   Adj. R-squared:                  0.902\n",
      "Method:                 Least Squares   F-statistic:                     19.45\n",
      "Date:                Wed, 09 Oct 2024   Prob (F-statistic):             0.0181\n",
      "Time:                        16:04:26   Log-Likelihood:                -66.181\n",
      "No. Observations:                   7   AIC:                             140.4\n",
      "Df Residuals:                       3   BIC:                             140.1\n",
      "Df Model:                           3                                         \n",
      "Covariance Type:            nonrobust                                         \n",
      "==========================================================================================\n",
      "                             coef    std err          t      P>|t|      [0.025      0.975]\n",
      "------------------------------------------------------------------------------------------\n",
      "const                   3.078e+05   7.22e+04      4.266      0.024    7.82e+04    5.37e+05\n",
      "Tasa de desocupación    -544.3333   1.86e+04     -0.029      0.978   -5.97e+04    5.86e+04\n",
      "General                 -539.0948    322.832     -1.670      0.194   -1566.490     488.301\n",
      "Variación 12 Meses (%)  5293.3891   1743.455      3.036      0.056    -255.061    1.08e+04\n",
      "==============================================================================\n",
      "Omnibus:                          nan   Durbin-Watson:                   2.755\n",
      "Prob(Omnibus):                    nan   Jarque-Bera (JB):                0.493\n",
      "Skew:                           0.374   Prob(JB):                        0.781\n",
      "Kurtosis:                       1.936   Cond. No.                     6.96e+03\n",
      "==============================================================================\n",
      "\n",
      "Notes:\n",
      "[1] Standard Errors assume that the covariance matrix of the errors is correctly specified.\n",
      "[2] The condition number is large, 6.96e+03. This might indicate that there are\n",
      "strong multicollinearity or other numerical problems.\n",
      "Factor de Inflación de la Varianza (VIF):\n",
      "                 Variable          VIF\n",
      "0                   const  1637.425352\n",
      "1    Tasa de desocupación    13.149392\n",
      "2                 General    13.221159\n",
      "3  Variación 12 Meses (%)     1.075590\n"
     ]
    },
    {
     "name": "stderr",
     "output_type": "stream",
     "text": [
      "c:\\Users\\azuka\\anaconda3\\envs\\Visu\\lib\\site-packages\\statsmodels\\stats\\stattools.py:74: ValueWarning:\n",
      "\n",
      "omni_normtest is not valid with less than 8 observations; 7 samples were given.\n",
      "\n"
     ]
    }
   ],
   "source": [
    "factores_anual = ['Tasa de desocupación', 'General', 'Variación 12 Meses (%)']\n",
    "variable_dependiente_anual = 'Nacimientos'\n",
    "\n",
    "for factor in factores_anual:\n",
    "    corr, p_val = pearsonr(df_combined_anual_clean[factor], df_combined_anual_clean[variable_dependiente_anual])\n",
    "    print(f\"Correlación entre {factor} y {variable_dependiente_anual}: {corr:.2f} (p-valor: {p_val:.4f})\")\n",
    "\n",
    "import seaborn as sns\n",
    "import matplotlib.pyplot as plt\n",
    "\n",
    "corr_matrix_anual = df_combined_anual_clean[['Nacimientos'] + factores_anual].corr()\n",
    "plt.figure(figsize=(8, 6))\n",
    "sns.heatmap(corr_matrix_anual, annot=True, cmap='coolwarm', fmt=\".2f\")\n",
    "plt.title('Matriz de Correlación Anual entre Nacimientos y Factores Económicos y Sociales')\n",
    "plt.show()\n",
    "\n",
    "if df_combined_anual_clean.shape[0] > len(factores_anual) + 1:\n",
    "    X = df_combined_anual_clean[factores_anual]\n",
    "    y = df_combined_anual_clean[variable_dependiente_anual]\n",
    "    \n",
    "    X = sm.add_constant(X)\n",
    "    \n",
    "    modelo = sm.OLS(y, X).fit()\n",
    "    \n",
    "    print(modelo.summary())\n",
    "    \n",
    "    vif_data = pd.DataFrame()\n",
    "    vif_data[\"Variable\"] = X.columns\n",
    "    vif_data[\"VIF\"] = [variance_inflation_factor(X.values, i) for i in range(X.shape[1])]\n",
    "    print(\"Factor de Inflación de la Varianza (VIF):\")\n",
    "    print(vif_data)\n",
    "else:\n",
    "    print(\"Tamaño de muestra insuficiente para realizar regresión múltiple.\")"
   ]
  },
  {
   "cell_type": "code",
   "execution_count": 15,
   "metadata": {},
   "outputs": [
    {
     "data": {
      "image/png": "[encoded data removed]",
      "text/plain": [
       "<Figure size 800x600 with 1 Axes>"
      ]
     },
     "metadata": {},
     "output_type": "display_data"
    },
    {
     "data": {
      "image/png": "[encoded data removed]",
      "text/plain": [
       "<Figure size 800x600 with 1 Axes>"
      ]
     },
     "metadata": {},
     "output_type": "display_data"
    },
    {
     "data": {
      "image/png": "[encoded data removed]",
      "text/plain": [
       "<Figure size 800x600 with 1 Axes>"
      ]
     },
     "metadata": {},
     "output_type": "display_data"
    }
   ],
   "source": [
    "for factor in factores_anual:\n",
    "    plt.figure(figsize=(8, 6))\n",
    "    sns.regplot(x=factor, y=variable_dependiente_anual, data=df_combined_anual_clean)\n",
    "    plt.title(f'Relación entre {factor} y {variable_dependiente_anual}')\n",
    "    plt.xlabel(factor)\n",
    "    plt.ylabel(variable_dependiente_anual)\n",
    "    plt.show()\n",
    "\n",
    "import plotly.graph_objects as go\n",
    "\n",
    "fig = go.Figure()"
   ]
  }
 ],
 "metadata": {
  "kernelspec": {
   "display_name": "Visu",
   "language": "python",
   "name": "python3"
  },
  "language_info": {
   "codemirror_mode": {
    "name": "ipython",
    "version": 3
   },
   "file_extension": ".py",
   "mimetype": "text/x-python",
   "name": "python",
   "nbconvert_exporter": "python",
   "pygments_lexer": "ipython3",
   "version": "3.10.15"
  }
 },
 "nbformat": 4,
 "nbformat_minor": 2
}
